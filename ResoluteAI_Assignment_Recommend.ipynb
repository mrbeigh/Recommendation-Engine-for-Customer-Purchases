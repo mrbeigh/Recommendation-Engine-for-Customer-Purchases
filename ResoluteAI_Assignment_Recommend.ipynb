{
  "nbformat": 4,
  "nbformat_minor": 0,
  "metadata": {
    "colab": {
      "provenance": [],
      "mount_file_id": "1PjIUi-l9gm1D8CZtYZBAUOw7vLpvTcMy",
      "authorship_tag": "ABX9TyMhX5hIW5R1XV9z6gD7rpeZ",
      "include_colab_link": true
    },
    "kernelspec": {
      "name": "python3",
      "display_name": "Python 3"
    },
    "language_info": {
      "name": "python"
    }
  },
  "cells": [
    {
      "cell_type": "markdown",
      "metadata": {
        "id": "view-in-github",
        "colab_type": "text"
      },
      "source": [
        "<a href=\"https://colab.research.google.com/github/mrbeigh/Recommendation-Engine-for-Customer-Purchases/blob/main/ResoluteAI_Assignment_Recommend.ipynb\" target=\"_parent\"><img src=\"https://colab.research.google.com/assets/colab-badge.svg\" alt=\"Open In Colab\"/></a>"
      ]
    },
    {
      "cell_type": "code",
      "source": [
        "!pip install scikit-surprise\n"
      ],
      "metadata": {
        "colab": {
          "base_uri": "https://localhost:8080/"
        },
        "id": "6_YtHirVGIAJ",
        "outputId": "7c0e3976-4169-4015-aa1e-b7ee96815e77"
      },
      "execution_count": null,
      "outputs": [
        {
          "output_type": "stream",
          "name": "stdout",
          "text": [
            "Collecting scikit-surprise\n",
            "  Downloading scikit-surprise-1.1.3.tar.gz (771 kB)\n",
            "\u001b[2K     \u001b[90m━━━━━━━━━━━━━━━━━━━━━━━━━━━━━━━━━━━━━━━\u001b[0m \u001b[32m772.0/772.0 kB\u001b[0m \u001b[31m5.2 MB/s\u001b[0m eta \u001b[36m0:00:00\u001b[0m\n",
            "\u001b[?25h  Preparing metadata (setup.py) ... \u001b[?25l\u001b[?25hdone\n",
            "Requirement already satisfied: joblib>=1.0.0 in /usr/local/lib/python3.10/dist-packages (from scikit-surprise) (1.3.2)\n",
            "Requirement already satisfied: numpy>=1.17.3 in /usr/local/lib/python3.10/dist-packages (from scikit-surprise) (1.23.5)\n",
            "Requirement already satisfied: scipy>=1.3.2 in /usr/local/lib/python3.10/dist-packages (from scikit-surprise) (1.11.2)\n",
            "Building wheels for collected packages: scikit-surprise\n",
            "  Building wheel for scikit-surprise (setup.py) ... \u001b[?25l\u001b[?25hdone\n",
            "  Created wheel for scikit-surprise: filename=scikit_surprise-1.1.3-cp310-cp310-linux_x86_64.whl size=3156224 sha256=e489c8dac3b0e5808eb51321e1c362b3473aa26a1137c0a002c02836bbf6f374\n",
            "  Stored in directory: /root/.cache/pip/wheels/a5/ca/a8/4e28def53797fdc4363ca4af740db15a9c2f1595ebc51fb445\n",
            "Successfully built scikit-surprise\n",
            "Installing collected packages: scikit-surprise\n",
            "Successfully installed scikit-surprise-1.1.3\n"
          ]
        }
      ]
    },
    {
      "cell_type": "code",
      "source": [
        "# Import necessary libraries\n",
        "import pandas as pd\n",
        "from sklearn.metrics.pairwise import linear_kernel\n",
        "from sklearn.feature_extraction.text import TfidfVectorizer\n",
        "from surprise import Dataset, Reader, KNNBasic\n",
        "from datetime import datetime\n",
        "\n",
        "# Load data from the locally uploaded Excel file\n",
        "file_path = '/content/drive/MyDrive/Code Playground/ResoluteAI_Recommender/Online Retail.xlsx'\n",
        "data = pd.read_excel(file_path, engine='openpyxl')\n",
        "\n",
        "# Define a custom function to check for non-text descriptions\n",
        "def is_non_text(description):\n",
        "    if isinstance(description, str):\n",
        "        return not description.isalpha()\n",
        "    return True\n",
        "\n",
        "# Use the custom function with apply to filter rows\n",
        "data = data[~data['Description'].apply(is_non_text)]\n"
      ],
      "metadata": {
        "id": "L2v-na38yRB6"
      },
      "execution_count": null,
      "outputs": []
    },
    {
      "cell_type": "code",
      "source": [
        "# Check the format of the CustomerID column\n",
        "customer_id_format = data['CustomerID'].apply(lambda x: 'Valid' if str(x).isdigit() else 'Invalid')\n",
        "print(customer_id_format.value_counts())\n",
        "\n",
        "\n",
        "# Check the format of the InvoiceDate column\n",
        "invoice_date_format = data['InvoiceDate'].apply(lambda x: 'Valid' if isinstance(x, str) and len(x) >= 10 else 'Invalid')\n",
        "print(invoice_date_format.value_counts())\n"
      ],
      "metadata": {
        "colab": {
          "base_uri": "https://localhost:8080/"
        },
        "id": "YJWSM7PiJf3P",
        "outputId": "57f8846b-732b-4a36-eff4-ad73a19c190f"
      },
      "execution_count": null,
      "outputs": [
        {
          "output_type": "stream",
          "name": "stdout",
          "text": [
            "Invalid    2491\n",
            "Name: CustomerID, dtype: int64\n",
            "Invalid    2491\n",
            "Name: InvoiceDate, dtype: int64\n"
          ]
        }
      ]
    },
    {
      "cell_type": "code",
      "source": [
        "# Drop rows with missing values in CustomerID and InvoiceDate columns\n",
        "data.dropna(subset=['InvoiceDate'], inplace=True)\n",
        "\n",
        "# Format InvoiceDate column as \"DD/MM/YY HH:MM\"\n",
        "data['InvoiceDate'] = pd.to_datetime(data['InvoiceDate'], format='%m/%d/%y %H:%M')\n",
        "\n",
        "# Display the first few rows of the cleaned and formatted data\n",
        "print(data.head())"
      ],
      "metadata": {
        "colab": {
          "base_uri": "https://localhost:8080/"
        },
        "id": "gJhME4WhKR6N",
        "outputId": "9a456449-993a-4400-fdcf-f278e43cff4a"
      },
      "execution_count": null,
      "outputs": [
        {
          "output_type": "stream",
          "name": "stdout",
          "text": [
            "     InvoiceNo StockCode Description  Quantity         InvoiceDate  UnitPrice  \\\n",
            "45      536370      POST     POSTAGE         3 2010-12-01 08:45:00       18.0   \n",
            "141    C536379         D    Discount        -1 2010-12-01 09:41:00       27.5   \n",
            "386     536403      POST     POSTAGE         1 2010-12-01 11:27:00       15.0   \n",
            "1123    536527      POST     POSTAGE         1 2010-12-01 13:04:00       18.0   \n",
            "1423    536540        C2    CARRIAGE         1 2010-12-01 14:05:00       50.0   \n",
            "\n",
            "      CustomerID         Country  \n",
            "45       12583.0          France  \n",
            "141      14527.0  United Kingdom  \n",
            "386      12791.0     Netherlands  \n",
            "1123     12662.0         Germany  \n",
            "1423     14911.0            EIRE  \n"
          ]
        }
      ]
    },
    {
      "cell_type": "code",
      "source": [
        "# Check the format of the CustomerID column\n",
        "customer_id_format = data['CustomerID'].apply(lambda x: 'Valid' if str(x).isdigit() else 'Invalid')\n",
        "print(customer_id_format.value_counts())\n",
        "\n",
        "\n",
        "# Check the format of the InvoiceDate column\n",
        "invoice_date_format = data['InvoiceDate'].apply(lambda x: 'Valid' if isinstance(x, str) and len(x) >= 10 else 'Invalid')\n",
        "print(invoice_date_format.value_counts())\n"
      ],
      "metadata": {
        "colab": {
          "base_uri": "https://localhost:8080/"
        },
        "id": "fd_gbJvIMwgN",
        "outputId": "fa5c768a-f1dc-4d91-d403-828809ae110b"
      },
      "execution_count": null,
      "outputs": [
        {
          "output_type": "stream",
          "name": "stdout",
          "text": [
            "Invalid    2491\n",
            "Name: CustomerID, dtype: int64\n",
            "Invalid    2491\n",
            "Name: InvoiceDate, dtype: int64\n"
          ]
        }
      ]
    },
    {
      "cell_type": "code",
      "source": [
        "# Input customer ID and date\n",
        "customer_id = input(\"Enter Customer ID: \")\n",
        "input_date_str = input(\"Enter Invoice Date (DD/MM/YY HH:MM): \")\n",
        "\n",
        "# Parse the input date string to a datetime object\n",
        "try:\n",
        "    input_date = datetime.strptime(input_date_str, \"%d/%m/%y %H:%M\")\n",
        "except ValueError:\n",
        "    print(\"Invalid date format. Please use the format DD/MM/YY HH:MM.\")\n",
        "    exit()\n"
      ],
      "metadata": {
        "colab": {
          "base_uri": "https://localhost:8080/"
        },
        "id": "V9bjA9FzyTIp",
        "outputId": "7054a560-81de-4b20-bc6f-6682caa35877"
      },
      "execution_count": null,
      "outputs": [
        {
          "name": "stdout",
          "output_type": "stream",
          "text": [
            "Enter Customer ID: 12662\n",
            "Enter Invoice Date (DD/MM/YY HH:MM): 6/5/11 13:45\n"
          ]
        }
      ]
    },
    {
      "cell_type": "code",
      "source": [
        "# Filter data based on the customer ID and date\n",
        "filtered_data = data[(data['CustomerID'] == customer_id) & (data['InvoiceDate'] == input_date)]\n",
        "\n",
        "# Debugging: Print the filtered data for inspection\n",
        "print(\"Debug: Filtered Data:\")\n",
        "print(filtered_data)\n"
      ],
      "metadata": {
        "colab": {
          "base_uri": "https://localhost:8080/"
        },
        "id": "1bA-PbEy1aCi",
        "outputId": "aab2430a-26ca-4dac-a7f7-1c14748f551e"
      },
      "execution_count": null,
      "outputs": [
        {
          "output_type": "stream",
          "name": "stdout",
          "text": [
            "Debug: Customer ID = 12662\n",
            "Debug: Input Date = 2011-05-06 13:45:00\n",
            "Debug: Filtered Data:\n",
            "Empty DataFrame\n",
            "Columns: [InvoiceNo, StockCode, Description, Quantity, InvoiceDate, UnitPrice, CustomerID, Country]\n",
            "Index: []\n"
          ]
        }
      ]
    },
    {
      "cell_type": "code",
      "source": [
        "# Collaborative Filtering\n",
        "reader = Reader(rating_scale=(1, 5))\n",
        "dataset = Dataset.load_from_df(filtered_data[['CustomerID', 'StockCode', 'Quantity']], reader)\n",
        "trainset = dataset.build_full_trainset()\n",
        "\n",
        "# Build a recommendation model (user-based collaborative filtering)\n",
        "sim_options = {'name': 'cosine', 'user_based': True}\n",
        "collab_model = KNNBasic(sim_options=sim_options)\n",
        "collab_model.fit(trainset)\n"
      ],
      "metadata": {
        "colab": {
          "base_uri": "https://localhost:8080/"
        },
        "id": "80kAEu8gyXdS",
        "outputId": "508eb228-ee01-4c0b-b5c8-11341e39a2f9"
      },
      "execution_count": null,
      "outputs": [
        {
          "output_type": "stream",
          "name": "stdout",
          "text": [
            "Computing the cosine similarity matrix...\n",
            "Done computing similarity matrix.\n"
          ]
        },
        {
          "output_type": "execute_result",
          "data": {
            "text/plain": [
              "<surprise.prediction_algorithms.knns.KNNBasic at 0x7bcc1767ba30>"
            ]
          },
          "metadata": {},
          "execution_count": 70
        }
      ]
    },
    {
      "cell_type": "code",
      "source": [
        "# Content-Based Filtering (based on item descriptions)\n",
        "tfidf_vectorizer = TfidfVectorizer(stop_words='english')\n",
        "tfidf_matrix = tfidf_vectorizer.fit_transform(data['Description'].fillna(''))\n",
        "cosine_sim = linear_kernel(tfidf_matrix, tfidf_matrix)\n"
      ],
      "metadata": {
        "id": "6Eu_KthDybPH"
      },
      "execution_count": null,
      "outputs": []
    },
    {
      "cell_type": "code",
      "source": [
        "# Function to get content-based recommendations\n",
        "def content_based_recommendations(stock_code, cosine_sim=cosine_sim):\n",
        "    idx = data[data['StockCode'] == stock_code].index[0]\n",
        "    sim_scores = list(enumerate(cosine_sim[idx]))\n",
        "    sim_scores = sorted(sim_scores, key=lambda x: x[1], reverse=True)\n",
        "    sim_scores = sim_scores[1:6]  # Get top 5 similar items (excluding itself)\n",
        "    item_indices = [i[0] for i in sim_scores]\n",
        "    return data['StockCode'].iloc[item_indices]\n"
      ],
      "metadata": {
        "id": "Qwadr8zZydxI"
      },
      "execution_count": null,
      "outputs": []
    },
    {
      "cell_type": "code",
      "source": [
        "# Example: Recommend items based on a product previously purchased by the customer\n",
        "if not filtered_data.empty:\n",
        "    previous_purchase = filtered_data['StockCode'].iloc[0]  # Assuming the customer purchased the first item\n",
        "    content_based_recommendations(previous_purchase)\n",
        "else:\n",
        "    print(\"No data available for recommendations for the given customer and date.\")\n"
      ],
      "metadata": {
        "colab": {
          "base_uri": "https://localhost:8080/"
        },
        "id": "SgKbLYQ-ygK8",
        "outputId": "201c004a-3f22-4ac2-fd5a-aa74134aaf35"
      },
      "execution_count": null,
      "outputs": [
        {
          "output_type": "stream",
          "name": "stdout",
          "text": [
            "No data available for recommendations for the given customer and date.\n"
          ]
        }
      ]
    },
    {
      "cell_type": "code",
      "source": [
        "# Collaborative Filtering Recommendations\n",
        "def collaborative_filtering_recommendations(customer_id, model=collab_model):\n",
        "    item_ids = list(data['StockCode'].unique())\n",
        "    items_to_predict = [(customer_id, item_id, 4.0) for item_id in item_ids if item_id not in filtered_data['StockCode'].unique()]\n",
        "    predictions = model.test(items_to_predict)\n",
        "    predictions.sort(key=lambda x: x.est, reverse=True)\n",
        "    top_recommendations = predictions[:5]  # Adjust the number of recommendations as needed\n",
        "    return [prediction.iid for prediction in top_recommendations]\n"
      ],
      "metadata": {
        "id": "vcWiCazjyhz0"
      },
      "execution_count": null,
      "outputs": []
    },
    {
      "cell_type": "code",
      "source": [
        "# Example: Recommend items to the customer using collaborative filtering\n",
        "collaborative_filtering_recommendations(customer_id)\n"
      ],
      "metadata": {
        "colab": {
          "base_uri": "https://localhost:8080/"
        },
        "id": "AA50RMUryjnO",
        "outputId": "1cc4df3b-00f4-4fff-81d6-57bbd564ac36"
      },
      "execution_count": null,
      "outputs": [
        {
          "output_type": "stream",
          "name": "stderr",
          "text": [
            "/usr/local/lib/python3.10/dist-packages/numpy/core/fromnumeric.py:3432: RuntimeWarning: Mean of empty slice.\n",
            "  return _methods._mean(a, axis=axis, dtype=dtype,\n",
            "/usr/local/lib/python3.10/dist-packages/numpy/core/_methods.py:190: RuntimeWarning: invalid value encountered in double_scalars\n",
            "  ret = ret.dtype.type(ret / rcount)\n"
          ]
        },
        {
          "output_type": "execute_result",
          "data": {
            "text/plain": [
              "['POST', 'D', 'C2', 'M', 22734]"
            ]
          },
          "metadata": {},
          "execution_count": 75
        }
      ]
    }
  ]
}